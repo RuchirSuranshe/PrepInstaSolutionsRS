{
 "cells": [
  {
   "cell_type": "code",
   "execution_count": 36,
   "id": "b19e1cb2",
   "metadata": {},
   "outputs": [],
   "source": [
    "import numpy as np\n",
    "import pandas as pd"
   ]
  },
  {
   "cell_type": "code",
   "execution_count": 3,
   "id": "ca2fa817",
   "metadata": {},
   "outputs": [
    {
     "data": {
      "text/html": [
       "<div>\n",
       "<style scoped>\n",
       "    .dataframe tbody tr th:only-of-type {\n",
       "        vertical-align: middle;\n",
       "    }\n",
       "\n",
       "    .dataframe tbody tr th {\n",
       "        vertical-align: top;\n",
       "    }\n",
       "\n",
       "    .dataframe thead th {\n",
       "        text-align: right;\n",
       "    }\n",
       "</style>\n",
       "<table border=\"1\" class=\"dataframe\">\n",
       "  <thead>\n",
       "    <tr style=\"text-align: right;\">\n",
       "      <th></th>\n",
       "      <th>Index</th>\n",
       "      <th>Age</th>\n",
       "      <th>Salary</th>\n",
       "      <th>Rating</th>\n",
       "      <th>Location</th>\n",
       "      <th>Established</th>\n",
       "      <th>Easy Apply</th>\n",
       "    </tr>\n",
       "  </thead>\n",
       "  <tbody>\n",
       "    <tr>\n",
       "      <th>0</th>\n",
       "      <td>0</td>\n",
       "      <td>44.0</td>\n",
       "      <td>$44k-$99k</td>\n",
       "      <td>5.4</td>\n",
       "      <td>India,In</td>\n",
       "      <td>1999</td>\n",
       "      <td>TRUE</td>\n",
       "    </tr>\n",
       "    <tr>\n",
       "      <th>1</th>\n",
       "      <td>1</td>\n",
       "      <td>66.0</td>\n",
       "      <td>$55k-$66k</td>\n",
       "      <td>3.5</td>\n",
       "      <td>New York,Ny</td>\n",
       "      <td>2002</td>\n",
       "      <td>TRUE</td>\n",
       "    </tr>\n",
       "    <tr>\n",
       "      <th>2</th>\n",
       "      <td>2</td>\n",
       "      <td>NaN</td>\n",
       "      <td>$77k-$89k</td>\n",
       "      <td>-1.0</td>\n",
       "      <td>New York,Ny</td>\n",
       "      <td>-1</td>\n",
       "      <td>-1</td>\n",
       "    </tr>\n",
       "    <tr>\n",
       "      <th>3</th>\n",
       "      <td>3</td>\n",
       "      <td>64.0</td>\n",
       "      <td>$44k-$99k</td>\n",
       "      <td>4.4</td>\n",
       "      <td>India In</td>\n",
       "      <td>1988</td>\n",
       "      <td>-1</td>\n",
       "    </tr>\n",
       "    <tr>\n",
       "      <th>4</th>\n",
       "      <td>4</td>\n",
       "      <td>25.0</td>\n",
       "      <td>$44k-$99k</td>\n",
       "      <td>6.4</td>\n",
       "      <td>Australia Aus</td>\n",
       "      <td>2002</td>\n",
       "      <td>-1</td>\n",
       "    </tr>\n",
       "  </tbody>\n",
       "</table>\n",
       "</div>"
      ],
      "text/plain": [
       "   Index   Age     Salary  Rating       Location  Established Easy Apply\n",
       "0      0  44.0  $44k-$99k     5.4       India,In         1999       TRUE\n",
       "1      1  66.0  $55k-$66k     3.5    New York,Ny         2002       TRUE\n",
       "2      2   NaN  $77k-$89k    -1.0    New York,Ny           -1         -1\n",
       "3      3  64.0  $44k-$99k     4.4       India In         1988         -1\n",
       "4      4  25.0  $44k-$99k     6.4  Australia Aus         2002         -1"
      ]
     },
     "execution_count": 3,
     "metadata": {},
     "output_type": "execute_result"
    }
   ],
   "source": [
    "df = pd.read_csv('Data-cleaning-for-beginners-using-pandas.csv')\n",
    "df.head()"
   ]
  },
  {
   "cell_type": "code",
   "execution_count": 4,
   "id": "0601f7c5",
   "metadata": {},
   "outputs": [
    {
     "data": {
      "text/html": [
       "<div>\n",
       "<style scoped>\n",
       "    .dataframe tbody tr th:only-of-type {\n",
       "        vertical-align: middle;\n",
       "    }\n",
       "\n",
       "    .dataframe tbody tr th {\n",
       "        vertical-align: top;\n",
       "    }\n",
       "\n",
       "    .dataframe thead th {\n",
       "        text-align: right;\n",
       "    }\n",
       "</style>\n",
       "<table border=\"1\" class=\"dataframe\">\n",
       "  <thead>\n",
       "    <tr style=\"text-align: right;\">\n",
       "      <th></th>\n",
       "      <th>Index</th>\n",
       "      <th>Age</th>\n",
       "      <th>Salary</th>\n",
       "      <th>Rating</th>\n",
       "      <th>Location</th>\n",
       "      <th>Established</th>\n",
       "      <th>Easy Apply</th>\n",
       "    </tr>\n",
       "  </thead>\n",
       "  <tbody>\n",
       "    <tr>\n",
       "      <th>24</th>\n",
       "      <td>24</td>\n",
       "      <td>13.0</td>\n",
       "      <td>$44k-$99k</td>\n",
       "      <td>-1.0</td>\n",
       "      <td>New York,Ny</td>\n",
       "      <td>1987</td>\n",
       "      <td>-1</td>\n",
       "    </tr>\n",
       "    <tr>\n",
       "      <th>25</th>\n",
       "      <td>25</td>\n",
       "      <td>55.0</td>\n",
       "      <td>$44k-$99k</td>\n",
       "      <td>0.0</td>\n",
       "      <td>Australia Aus</td>\n",
       "      <td>1980</td>\n",
       "      <td>TRUE</td>\n",
       "    </tr>\n",
       "    <tr>\n",
       "      <th>26</th>\n",
       "      <td>26</td>\n",
       "      <td>NaN</td>\n",
       "      <td>$55k-$66k</td>\n",
       "      <td>NaN</td>\n",
       "      <td>India,In</td>\n",
       "      <td>1934</td>\n",
       "      <td>TRUE</td>\n",
       "    </tr>\n",
       "    <tr>\n",
       "      <th>27</th>\n",
       "      <td>27</td>\n",
       "      <td>52.0</td>\n",
       "      <td>$44k-$99k</td>\n",
       "      <td>5.4</td>\n",
       "      <td>India,In</td>\n",
       "      <td>1935</td>\n",
       "      <td>-1</td>\n",
       "    </tr>\n",
       "    <tr>\n",
       "      <th>28</th>\n",
       "      <td>28</td>\n",
       "      <td>NaN</td>\n",
       "      <td>$39k-$88k</td>\n",
       "      <td>3.4</td>\n",
       "      <td>Australia Aus</td>\n",
       "      <td>1932</td>\n",
       "      <td>-1</td>\n",
       "    </tr>\n",
       "  </tbody>\n",
       "</table>\n",
       "</div>"
      ],
      "text/plain": [
       "    Index   Age     Salary  Rating       Location  Established Easy Apply\n",
       "24     24  13.0  $44k-$99k    -1.0    New York,Ny         1987         -1\n",
       "25     25  55.0  $44k-$99k     0.0  Australia Aus         1980       TRUE\n",
       "26     26   NaN  $55k-$66k     NaN       India,In         1934       TRUE\n",
       "27     27  52.0  $44k-$99k     5.4       India,In         1935         -1\n",
       "28     28   NaN  $39k-$88k     3.4  Australia Aus         1932         -1"
      ]
     },
     "execution_count": 4,
     "metadata": {},
     "output_type": "execute_result"
    }
   ],
   "source": [
    "df.tail()"
   ]
  },
  {
   "cell_type": "code",
   "execution_count": 5,
   "id": "59e33fa5",
   "metadata": {},
   "outputs": [
    {
     "name": "stdout",
     "output_type": "stream",
     "text": [
      "<class 'pandas.core.frame.DataFrame'>\n",
      "RangeIndex: 29 entries, 0 to 28\n",
      "Data columns (total 7 columns):\n",
      " #   Column       Non-Null Count  Dtype  \n",
      "---  ------       --------------  -----  \n",
      " 0   Index        29 non-null     int64  \n",
      " 1   Age          22 non-null     float64\n",
      " 2   Salary       29 non-null     object \n",
      " 3   Rating       28 non-null     float64\n",
      " 4   Location     29 non-null     object \n",
      " 5   Established  29 non-null     int64  \n",
      " 6   Easy Apply   29 non-null     object \n",
      "dtypes: float64(2), int64(2), object(3)\n",
      "memory usage: 1.7+ KB\n"
     ]
    }
   ],
   "source": [
    "df.info()"
   ]
  },
  {
   "cell_type": "code",
   "execution_count": 6,
   "id": "0e5dafee",
   "metadata": {},
   "outputs": [
    {
     "data": {
      "text/plain": [
       "(29, 7)"
      ]
     },
     "execution_count": 6,
     "metadata": {},
     "output_type": "execute_result"
    }
   ],
   "source": [
    "df.shape"
   ]
  },
  {
   "cell_type": "code",
   "execution_count": 7,
   "id": "c4ea982c",
   "metadata": {},
   "outputs": [
    {
     "data": {
      "text/plain": [
       "Index          0\n",
       "Age            7\n",
       "Salary         0\n",
       "Rating         1\n",
       "Location       0\n",
       "Established    0\n",
       "Easy Apply     0\n",
       "dtype: int64"
      ]
     },
     "execution_count": 7,
     "metadata": {},
     "output_type": "execute_result"
    }
   ],
   "source": [
    "df.isnull().sum()"
   ]
  },
  {
   "cell_type": "code",
   "execution_count": 8,
   "id": "4f3a729f",
   "metadata": {},
   "outputs": [
    {
     "data": {
      "text/plain": [
       "Index(['Index', 'Age', 'Salary', 'Rating', 'Location', 'Established',\n",
       "       'Easy Apply'],\n",
       "      dtype='object')"
      ]
     },
     "execution_count": 8,
     "metadata": {},
     "output_type": "execute_result"
    }
   ],
   "source": [
    "df.columns"
   ]
  },
  {
   "cell_type": "code",
   "execution_count": 9,
   "id": "0e52b9ad",
   "metadata": {},
   "outputs": [],
   "source": [
    "# Replace '-1' with NaN for easier handling\n",
    "df.replace('-1', np.nan, inplace=True)"
   ]
  },
  {
   "cell_type": "markdown",
   "id": "d7666652",
   "metadata": {},
   "source": [
    "CLEANING THE SALARY COLUMN"
   ]
  },
  {
   "cell_type": "code",
   "execution_count": 10,
   "id": "40a5429b",
   "metadata": {},
   "outputs": [],
   "source": [
    "# Replace 'k' with '000'\n",
    "df['Salary'] = df['Salary'].str.replace('k', '000', regex=True)\n",
    "# Remove '$' sign\n",
    "df['Salary'] = df['Salary'].str.replace('[$]', '', regex=True)"
   ]
  },
  {
   "cell_type": "code",
   "execution_count": 11,
   "id": "63691d58",
   "metadata": {},
   "outputs": [],
   "source": [
    "# Calculating mean of the salary column\n",
    "df['Salary'] = df['Salary'].str.split('-').apply(lambda x: (int(x[0].replace(',', '')), int(x[1].replace(',', '')))).apply(lambda x: np.mean(x))  "
   ]
  },
  {
   "cell_type": "code",
   "execution_count": 12,
   "id": "7c5641d6",
   "metadata": {},
   "outputs": [
    {
     "data": {
      "text/html": [
       "<div>\n",
       "<style scoped>\n",
       "    .dataframe tbody tr th:only-of-type {\n",
       "        vertical-align: middle;\n",
       "    }\n",
       "\n",
       "    .dataframe tbody tr th {\n",
       "        vertical-align: top;\n",
       "    }\n",
       "\n",
       "    .dataframe thead th {\n",
       "        text-align: right;\n",
       "    }\n",
       "</style>\n",
       "<table border=\"1\" class=\"dataframe\">\n",
       "  <thead>\n",
       "    <tr style=\"text-align: right;\">\n",
       "      <th></th>\n",
       "      <th>Index</th>\n",
       "      <th>Age</th>\n",
       "      <th>Salary</th>\n",
       "      <th>Rating</th>\n",
       "      <th>Location</th>\n",
       "      <th>Established</th>\n",
       "      <th>Easy Apply</th>\n",
       "    </tr>\n",
       "  </thead>\n",
       "  <tbody>\n",
       "    <tr>\n",
       "      <th>0</th>\n",
       "      <td>0</td>\n",
       "      <td>44.0</td>\n",
       "      <td>71500.0</td>\n",
       "      <td>5.4</td>\n",
       "      <td>India,In</td>\n",
       "      <td>1999</td>\n",
       "      <td>TRUE</td>\n",
       "    </tr>\n",
       "    <tr>\n",
       "      <th>1</th>\n",
       "      <td>1</td>\n",
       "      <td>66.0</td>\n",
       "      <td>60500.0</td>\n",
       "      <td>3.5</td>\n",
       "      <td>New York,Ny</td>\n",
       "      <td>2002</td>\n",
       "      <td>TRUE</td>\n",
       "    </tr>\n",
       "    <tr>\n",
       "      <th>2</th>\n",
       "      <td>2</td>\n",
       "      <td>NaN</td>\n",
       "      <td>83000.0</td>\n",
       "      <td>-1.0</td>\n",
       "      <td>New York,Ny</td>\n",
       "      <td>-1</td>\n",
       "      <td>NaN</td>\n",
       "    </tr>\n",
       "    <tr>\n",
       "      <th>3</th>\n",
       "      <td>3</td>\n",
       "      <td>64.0</td>\n",
       "      <td>71500.0</td>\n",
       "      <td>4.4</td>\n",
       "      <td>India In</td>\n",
       "      <td>1988</td>\n",
       "      <td>NaN</td>\n",
       "    </tr>\n",
       "    <tr>\n",
       "      <th>4</th>\n",
       "      <td>4</td>\n",
       "      <td>25.0</td>\n",
       "      <td>71500.0</td>\n",
       "      <td>6.4</td>\n",
       "      <td>Australia Aus</td>\n",
       "      <td>2002</td>\n",
       "      <td>NaN</td>\n",
       "    </tr>\n",
       "  </tbody>\n",
       "</table>\n",
       "</div>"
      ],
      "text/plain": [
       "   Index   Age   Salary  Rating       Location  Established Easy Apply\n",
       "0      0  44.0  71500.0     5.4       India,In         1999       TRUE\n",
       "1      1  66.0  60500.0     3.5    New York,Ny         2002       TRUE\n",
       "2      2   NaN  83000.0    -1.0    New York,Ny           -1        NaN\n",
       "3      3  64.0  71500.0     4.4       India In         1988        NaN\n",
       "4      4  25.0  71500.0     6.4  Australia Aus         2002        NaN"
      ]
     },
     "execution_count": 12,
     "metadata": {},
     "output_type": "execute_result"
    }
   ],
   "source": [
    "df.head()"
   ]
  },
  {
   "cell_type": "markdown",
   "id": "36431b42",
   "metadata": {},
   "source": [
    "CLEANING THE LOCATION COLUMN"
   ]
  },
  {
   "cell_type": "code",
   "execution_count": 13,
   "id": "c58e1563",
   "metadata": {},
   "outputs": [],
   "source": [
    "# Removing country codes\n",
    "df['Location'] = df['Location'].replace({'New York,Ny':'New York', 'India,In':'India','India In':'India', 'Australia Aus':'Australia'})"
   ]
  },
  {
   "cell_type": "code",
   "execution_count": 14,
   "id": "8e33c97d",
   "metadata": {},
   "outputs": [
    {
     "data": {
      "text/html": [
       "<div>\n",
       "<style scoped>\n",
       "    .dataframe tbody tr th:only-of-type {\n",
       "        vertical-align: middle;\n",
       "    }\n",
       "\n",
       "    .dataframe tbody tr th {\n",
       "        vertical-align: top;\n",
       "    }\n",
       "\n",
       "    .dataframe thead th {\n",
       "        text-align: right;\n",
       "    }\n",
       "</style>\n",
       "<table border=\"1\" class=\"dataframe\">\n",
       "  <thead>\n",
       "    <tr style=\"text-align: right;\">\n",
       "      <th></th>\n",
       "      <th>Index</th>\n",
       "      <th>Age</th>\n",
       "      <th>Salary</th>\n",
       "      <th>Rating</th>\n",
       "      <th>Location</th>\n",
       "      <th>Established</th>\n",
       "      <th>Easy Apply</th>\n",
       "    </tr>\n",
       "  </thead>\n",
       "  <tbody>\n",
       "    <tr>\n",
       "      <th>0</th>\n",
       "      <td>0</td>\n",
       "      <td>44.0</td>\n",
       "      <td>71500.0</td>\n",
       "      <td>5.4</td>\n",
       "      <td>India</td>\n",
       "      <td>1999</td>\n",
       "      <td>TRUE</td>\n",
       "    </tr>\n",
       "    <tr>\n",
       "      <th>1</th>\n",
       "      <td>1</td>\n",
       "      <td>66.0</td>\n",
       "      <td>60500.0</td>\n",
       "      <td>3.5</td>\n",
       "      <td>New York</td>\n",
       "      <td>2002</td>\n",
       "      <td>TRUE</td>\n",
       "    </tr>\n",
       "    <tr>\n",
       "      <th>2</th>\n",
       "      <td>2</td>\n",
       "      <td>NaN</td>\n",
       "      <td>83000.0</td>\n",
       "      <td>-1.0</td>\n",
       "      <td>New York</td>\n",
       "      <td>-1</td>\n",
       "      <td>NaN</td>\n",
       "    </tr>\n",
       "    <tr>\n",
       "      <th>3</th>\n",
       "      <td>3</td>\n",
       "      <td>64.0</td>\n",
       "      <td>71500.0</td>\n",
       "      <td>4.4</td>\n",
       "      <td>India</td>\n",
       "      <td>1988</td>\n",
       "      <td>NaN</td>\n",
       "    </tr>\n",
       "    <tr>\n",
       "      <th>4</th>\n",
       "      <td>4</td>\n",
       "      <td>25.0</td>\n",
       "      <td>71500.0</td>\n",
       "      <td>6.4</td>\n",
       "      <td>Australia</td>\n",
       "      <td>2002</td>\n",
       "      <td>NaN</td>\n",
       "    </tr>\n",
       "  </tbody>\n",
       "</table>\n",
       "</div>"
      ],
      "text/plain": [
       "   Index   Age   Salary  Rating   Location  Established Easy Apply\n",
       "0      0  44.0  71500.0     5.4      India         1999       TRUE\n",
       "1      1  66.0  60500.0     3.5   New York         2002       TRUE\n",
       "2      2   NaN  83000.0    -1.0   New York           -1        NaN\n",
       "3      3  64.0  71500.0     4.4      India         1988        NaN\n",
       "4      4  25.0  71500.0     6.4  Australia         2002        NaN"
      ]
     },
     "execution_count": 14,
     "metadata": {},
     "output_type": "execute_result"
    }
   ],
   "source": [
    "df.head()"
   ]
  },
  {
   "cell_type": "markdown",
   "id": "e787c0cc",
   "metadata": {},
   "source": [
    "CONVERTING THE 'ESTABLISHED' COLUMN"
   ]
  },
  {
   "cell_type": "code",
   "execution_count": 15,
   "id": "52a59cdb",
   "metadata": {},
   "outputs": [],
   "source": [
    " #Converting 'Established' column to datetime if applicable\n",
    "df['Established'] = pd.to_datetime(df['Established'], format='%Y', errors='coerce')"
   ]
  },
  {
   "cell_type": "markdown",
   "id": "f85631e3",
   "metadata": {},
   "source": [
    "CONVERTING THE 'EASY APPLY' COLUMN "
   ]
  },
  {
   "cell_type": "code",
   "execution_count": 16,
   "id": "cd51c147",
   "metadata": {},
   "outputs": [],
   "source": [
    "# Converting 'Easy Apply' column to boolean\n",
    "df['Easy Apply'] = df['Easy Apply'].map({'TRUE': True, np.nan: False})\n"
   ]
  },
  {
   "cell_type": "code",
   "execution_count": 17,
   "id": "d771dd4c",
   "metadata": {},
   "outputs": [
    {
     "data": {
      "text/html": [
       "<div>\n",
       "<style scoped>\n",
       "    .dataframe tbody tr th:only-of-type {\n",
       "        vertical-align: middle;\n",
       "    }\n",
       "\n",
       "    .dataframe tbody tr th {\n",
       "        vertical-align: top;\n",
       "    }\n",
       "\n",
       "    .dataframe thead th {\n",
       "        text-align: right;\n",
       "    }\n",
       "</style>\n",
       "<table border=\"1\" class=\"dataframe\">\n",
       "  <thead>\n",
       "    <tr style=\"text-align: right;\">\n",
       "      <th></th>\n",
       "      <th>Index</th>\n",
       "      <th>Age</th>\n",
       "      <th>Salary</th>\n",
       "      <th>Rating</th>\n",
       "      <th>Location</th>\n",
       "      <th>Established</th>\n",
       "      <th>Easy Apply</th>\n",
       "    </tr>\n",
       "  </thead>\n",
       "  <tbody>\n",
       "    <tr>\n",
       "      <th>0</th>\n",
       "      <td>0</td>\n",
       "      <td>44.0</td>\n",
       "      <td>71500.0</td>\n",
       "      <td>5.4</td>\n",
       "      <td>India</td>\n",
       "      <td>1999-01-01</td>\n",
       "      <td>True</td>\n",
       "    </tr>\n",
       "    <tr>\n",
       "      <th>1</th>\n",
       "      <td>1</td>\n",
       "      <td>66.0</td>\n",
       "      <td>60500.0</td>\n",
       "      <td>3.5</td>\n",
       "      <td>New York</td>\n",
       "      <td>2002-01-01</td>\n",
       "      <td>True</td>\n",
       "    </tr>\n",
       "    <tr>\n",
       "      <th>2</th>\n",
       "      <td>2</td>\n",
       "      <td>NaN</td>\n",
       "      <td>83000.0</td>\n",
       "      <td>-1.0</td>\n",
       "      <td>New York</td>\n",
       "      <td>NaT</td>\n",
       "      <td>False</td>\n",
       "    </tr>\n",
       "    <tr>\n",
       "      <th>3</th>\n",
       "      <td>3</td>\n",
       "      <td>64.0</td>\n",
       "      <td>71500.0</td>\n",
       "      <td>4.4</td>\n",
       "      <td>India</td>\n",
       "      <td>1988-01-01</td>\n",
       "      <td>False</td>\n",
       "    </tr>\n",
       "    <tr>\n",
       "      <th>4</th>\n",
       "      <td>4</td>\n",
       "      <td>25.0</td>\n",
       "      <td>71500.0</td>\n",
       "      <td>6.4</td>\n",
       "      <td>Australia</td>\n",
       "      <td>2002-01-01</td>\n",
       "      <td>False</td>\n",
       "    </tr>\n",
       "  </tbody>\n",
       "</table>\n",
       "</div>"
      ],
      "text/plain": [
       "   Index   Age   Salary  Rating   Location Established  Easy Apply\n",
       "0      0  44.0  71500.0     5.4      India  1999-01-01        True\n",
       "1      1  66.0  60500.0     3.5   New York  2002-01-01        True\n",
       "2      2   NaN  83000.0    -1.0   New York         NaT       False\n",
       "3      3  64.0  71500.0     4.4      India  1988-01-01       False\n",
       "4      4  25.0  71500.0     6.4  Australia  2002-01-01       False"
      ]
     },
     "execution_count": 17,
     "metadata": {},
     "output_type": "execute_result"
    }
   ],
   "source": [
    "df.head()"
   ]
  },
  {
   "cell_type": "code",
   "execution_count": 18,
   "id": "2dcceb4b",
   "metadata": {},
   "outputs": [
    {
     "name": "stdout",
     "output_type": "stream",
     "text": [
      "    Index   Age   Salary  Rating   Location Established  Easy Apply\n",
      "0       0  44.0  71500.0     5.4      India  1999-01-01        True\n",
      "1       1  66.0  60500.0     3.5   New York  2002-01-01        True\n",
      "2       2   NaN  83000.0    -1.0   New York         NaT       False\n",
      "3       3  64.0  71500.0     4.4      India  1988-01-01       False\n",
      "4       4  25.0  71500.0     6.4  Australia  2002-01-01       False\n",
      "5       5  44.0  83000.0     1.4      India  1999-01-01        True\n",
      "6       6  21.0  71500.0     0.0   New York         NaT       False\n",
      "7       7  44.0  71500.0    -1.0  Australia         NaT       False\n",
      "8       8  35.0  71500.0     5.4   New York         NaT       False\n",
      "9       9  22.0  71500.0     7.7      India         NaT        True\n",
      "10     10  55.0  29500.0     5.4      India  2008-01-01        True\n",
      "11     11  44.0  29500.0     6.7      India  2009-01-01       False\n",
      "12     12   NaN  71500.0     0.0      India  1999-01-01       False\n",
      "13     13  25.0  71500.0    -1.0  Australia  2019-01-01        True\n",
      "14     14  66.0  71500.0     4.0  Australia  2020-01-01        True\n",
      "15     15  44.0  94500.0     3.0  Australia  1999-01-01       False\n",
      "16     16  19.0  29500.0     4.5      India  1984-01-01       False\n",
      "17     17   NaN  71500.0     5.3   New York  1943-01-01        True\n",
      "18     18  35.0  71500.0     6.7   New York  1954-01-01        True\n",
      "19     19  32.0  71500.0     3.3   New York  1955-01-01        True\n",
      "20     20   NaN  71500.0     5.7   New York  1944-01-01        True\n",
      "21     21  35.0  71500.0     5.0   New York  1946-01-01       False\n",
      "22     22  19.0  60500.0     7.8   New York  1988-01-01        True\n",
      "23     23   NaN  71500.0     2.4   New York  1999-01-01        True\n",
      "24     24  13.0  71500.0    -1.0   New York  1987-01-01       False\n",
      "25     25  55.0  71500.0     0.0  Australia  1980-01-01        True\n",
      "26     26   NaN  60500.0     NaN      India  1934-01-01        True\n",
      "27     27  52.0  71500.0     5.4      India  1935-01-01       False\n",
      "28     28   NaN  63500.0     3.4  Australia  1932-01-01       False\n"
     ]
    }
   ],
   "source": [
    "print(df)"
   ]
  },
  {
   "cell_type": "code",
   "execution_count": null,
   "id": "83638eca",
   "metadata": {},
   "outputs": [],
   "source": []
  },
  {
   "cell_type": "code",
   "execution_count": null,
   "id": "20143965",
   "metadata": {},
   "outputs": [],
   "source": []
  },
  {
   "cell_type": "code",
   "execution_count": null,
   "id": "7a316689",
   "metadata": {},
   "outputs": [],
   "source": []
  },
  {
   "cell_type": "code",
   "execution_count": null,
   "id": "81208325",
   "metadata": {},
   "outputs": [],
   "source": []
  },
  {
   "cell_type": "code",
   "execution_count": null,
   "id": "2e499ab9",
   "metadata": {},
   "outputs": [],
   "source": []
  },
  {
   "cell_type": "code",
   "execution_count": null,
   "id": "a94d9e33",
   "metadata": {},
   "outputs": [],
   "source": []
  }
 ],
 "metadata": {
  "kernelspec": {
   "display_name": "Python 3 (ipykernel)",
   "language": "python",
   "name": "python3"
  },
  "language_info": {
   "codemirror_mode": {
    "name": "ipython",
    "version": 3
   },
   "file_extension": ".py",
   "mimetype": "text/x-python",
   "name": "python",
   "nbconvert_exporter": "python",
   "pygments_lexer": "ipython3",
   "version": "3.11.5"
  }
 },
 "nbformat": 4,
 "nbformat_minor": 5
}
